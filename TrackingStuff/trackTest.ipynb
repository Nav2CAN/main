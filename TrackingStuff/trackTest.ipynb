{
 "cells": [
  {
   "cell_type": "code",
   "execution_count": 1,
   "metadata": {},
   "outputs": [],
   "source": [
    "from tracking import PeopleTracker\n",
    "import csv\n",
    "import time\n",
    "import matplotlib.pyplot as plt\n",
    "import math\n",
    "import os\n",
    "\n",
    "track = PeopleTracker(debug = False)\n",
    "\n",
    "class Detection:\n",
    "    def __init__(self, x: float, y: float, orientation: float):\n",
    "        self.x = x\n",
    "        self.y = y\n",
    "        self.orientation = orientation\n"
   ]
  },
  {
   "cell_type": "code",
   "execution_count": 2,
   "metadata": {},
   "outputs": [
    {
     "name": "stdout",
     "output_type": "stream",
     "text": [
      "Processed 293 lines.\n"
     ]
    },
    {
     "data": {
      "text/plain": [
       "<Figure size 640x480 with 0 Axes>"
      ]
     },
     "metadata": {},
     "output_type": "display_data"
    }
   ],
   "source": [
    "with open('./SanityCheck.csv') as csv_file:\n",
    "    csv_reader = csv.reader(csv_file, delimiter=',')\n",
    "    line_count = 0\n",
    "    ID = 0\n",
    "    detections = []\n",
    "    timestamp = 0\n",
    "    predictNum = 0\n",
    "    for row in csv_reader:\n",
    "        # print(f\"Row ID: {row[0]}, x: {row[2]}, y: {row[3]}, theta: {row[4]} - length of detections is {len(detections)}\")\n",
    "        if line_count == 0:\n",
    "            #print(f'Column names are {\", \".join(row)}')\n",
    "            line_count += 1\n",
    "        \n",
    "        elif int(row[0]) == ID or len(detections) == 0:\n",
    "            detections.append(Detection(float(row[2]), float(row[3]), float(row[4])))\n",
    "            timestamp = float(row[1])\n",
    "            line_count += 1\n",
    "            ID = int(row[0])\n",
    "\n",
    "        else:\n",
    "            if predictNum:\n",
    "                track.predict()\n",
    "                for person in track.personList:\n",
    "                    plt.arrow(float(person.personX), float(person.personY), math.cos(float(person.personTheta)), math.sin(float(person.personTheta)),\n",
    "                        head_width = 0.02,\n",
    "                        width = 0.01,\n",
    "                        ec ='red')\n",
    "\n",
    "            if len(detections):\n",
    "                track.update(detections, timestamp)\n",
    "                \n",
    "                for detection in detections:\n",
    "                    plt.arrow(float(detection.x), float(detection.y), math.cos(float(detection.orientation)), math.sin(float(detection.orientation)),\n",
    "                        head_width = 0.02,\n",
    "                        width = 0.01,\n",
    "                        ec ='blue')\n",
    "                    \n",
    "                detections = []\n",
    "                for person in track.personList:\n",
    "                    plt.arrow(float(person.personX), float(person.personY), math.cos(float(person.personTheta)), math.sin(float(person.personTheta)),\n",
    "                        head_width = 0.02,\n",
    "                        width = 0.01,\n",
    "                        ec ='green')\n",
    "                #plt.show()\n",
    "                plt.savefig(f\"./images/{ID}.jpg\")\n",
    "                plt.clf()\n",
    "                # time.sleep(1)\n",
    "\n",
    "            detections.append(Detection(float(row[2]), float(row[3]), float(row[4])))\n",
    "            timestamp = float(row[1])\n",
    "            line_count += 1\n",
    "            predictNum += 1\n",
    "            ID = int(row[0])\n",
    "\n",
    "    \n",
    "    print(f'Processed {line_count} lines.')\n",
    "\n",
    "    "
   ]
  },
  {
   "cell_type": "code",
   "execution_count": 3,
   "metadata": {},
   "outputs": [],
   "source": [
    "import cv2\n",
    "import numpy as np\n",
    "import os\n",
    "\n",
    "# assign directory\n",
    "directory = 'images'\n",
    "\n",
    "width = 640\n",
    "height = 480\n",
    "\n",
    "# choose codec according to format needed\n",
    "fourcc = cv2.VideoWriter_fourcc(*'mp4v') \n",
    "video = cv2.VideoWriter('video.avi', fourcc, 5, (width, height))\n",
    "\n",
    "files = []\n",
    "# iterate over files in directory\n",
    "for filename in os.listdir(directory):\n",
    "    f = os.path.join(directory, filename)\n",
    "    # checking if it is a file\n",
    "    if os.path.isfile(f):\n",
    "        files.append(f)\n",
    "\n",
    "files.sort()\n",
    "\n",
    "for file in range(0, 170):\n",
    "    img = cv2.imread(f\"./images/{file}.jpg\")\n",
    "    video.write(img)\n",
    "cv2.destroyAllWindows()\n",
    "video.release()"
   ]
  }
 ],
 "metadata": {
  "kernelspec": {
   "display_name": "yolo",
   "language": "python",
   "name": "python3"
  },
  "language_info": {
   "codemirror_mode": {
    "name": "ipython",
    "version": 3
   },
   "file_extension": ".py",
   "mimetype": "text/x-python",
   "name": "python",
   "nbconvert_exporter": "python",
   "pygments_lexer": "ipython3",
   "version": "3.8.16"
  },
  "orig_nbformat": 4,
  "vscode": {
   "interpreter": {
    "hash": "ce61a635b3adfd35c4e0edaeb067be1b38e8ee1780da55e0cb0fa3cc7e290059"
   }
  }
 },
 "nbformat": 4,
 "nbformat_minor": 2
}
